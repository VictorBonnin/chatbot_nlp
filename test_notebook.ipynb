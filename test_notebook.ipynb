{
 "cells": [
  {
   "cell_type": "code",
   "execution_count": 1,
   "id": "52bdd8b5",
   "metadata": {},
   "outputs": [
    {
     "name": "stdout",
     "output_type": "stream",
     "text": [
      "Sentiment prédit : positive\n",
      "Probabilité par classe : [[0.02 0.27 0.71]]\n"
     ]
    }
   ],
   "source": [
    "import joblib\n",
    "import pandas as pd\n",
    "\n",
    "# Charger le pipeline complet\n",
    "pipeline = joblib.load(\"models/sentiment_pipeline.joblib\")\n",
    "\n",
    "# Exemple de prédiction\n",
    "example = pd.DataFrame([{\n",
    "    \"clean_text_advanced\": \"jean dujardin is the best actor\",\n",
    "    \"Country\": \"France\",\n",
    "    \"Time of Tweet\": \"morning\"\n",
    "}])\n",
    "result = pipeline.predict(example)\n",
    "proba = pipeline.predict_proba(example)\n",
    "\n",
    "print(\"Sentiment prédit :\", result[0])\n",
    "print(\"Probabilité par classe :\", proba)"
   ]
  }
 ],
 "metadata": {
  "kernelspec": {
   "display_name": "Python 3",
   "language": "python",
   "name": "python3"
  },
  "language_info": {
   "codemirror_mode": {
    "name": "ipython",
    "version": 3
   },
   "file_extension": ".py",
   "mimetype": "text/x-python",
   "name": "python",
   "nbconvert_exporter": "python",
   "pygments_lexer": "ipython3",
   "version": "3.10.4"
  }
 },
 "nbformat": 4,
 "nbformat_minor": 5
}
